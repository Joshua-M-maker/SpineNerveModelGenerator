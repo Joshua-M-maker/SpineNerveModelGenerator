{
 "cells": [
  {
   "cell_type": "markdown",
   "metadata": {},
   "source": [
    "# Example: Meshing and creating .stl model from .json annotions\n",
    "\n",
    "For the purpose of illustrating these scripts, annotions(.json files) of sub-01 were placed in annots/ folder. For default, the output would be saved in outputs/ folder. These codes were tested and executed on Ubuntu 23.04.\n",
    "\n",
    "## Step up envirionment\n",
    "\n",
    "Creating conda environment and install relied modules.\n",
    "```\n",
    "conda create -n Smgenv python=3.11\n",
    "conda activate Smgenv\n",
    "pip install bpy\n",
    "pip install pyvista[all]\n",
    "pip install pandas\n",
    "pip install scipy\n",
    "```"
   ]
  },
  {
   "cell_type": "markdown",
   "metadata": {},
   "source": [
    "## Import required modules"
   ]
  },
  {
   "cell_type": "code",
   "execution_count": 24,
   "metadata": {},
   "outputs": [],
   "source": [
    "import sys\n",
    "import os\n",
    "import bpy\n",
    "import pyvista as pv\n",
    "from utils.blender_tools import initialize, clearMesh\n",
    "from utils.AnnotationImport import importPoints\n",
    "from utils.MeshBuilding import getMeshSplines, bridgeLoopMeshes, reloc_entrypoint, smoothingLines, getnsaveMeshOpenSplines\n",
    "\n",
    "# data import\n",
    "annotation_base_path = 'annots'\n",
    "# model save\n",
    "modelsave_path = 'outputs'\n",
    "# subject number\n",
    "sub_num = 'sub-03'"
   ]
  },
  {
   "cell_type": "markdown",
   "metadata": {},
   "source": [
    "## Initialize and import annotations"
   ]
  },
  {
   "cell_type": "code",
   "execution_count": 25,
   "metadata": {},
   "outputs": [
    {
     "name": "stdout",
     "output_type": "stream",
     "text": [
      "imported dura for 80 loops\n",
      "imported cord for 66 loops\n",
      "imported spinal cord roots for 14 lines\n"
     ]
    }
   ],
   "source": [
    "# blender initialization\n",
    "initialize()\n",
    "scene = bpy.context.scene\n",
    "scene.unit_settings.system = 'METRIC'\n",
    "scene.unit_settings.scale_length = 0.001\n",
    "\n",
    "# creating sub path in outputs\n",
    "singlesub_path=os.path.join(modelsave_path,sub_num)\n",
    "os.makedirs(singlesub_path,exist_ok=True)\n",
    "\n",
    "# target nerveroots and their radius\n",
    "SEG = [\"L1\", \"L2\", \"L3\", \"L4\", \"L5\", \"S1\", \"S2\"]\n",
    "Rs = [0.5, 0.5, 0.5, 0.5, 0.5, 0.5, 0.5, 0.5]\n",
    "\n",
    "# import original annation points\n",
    "dura, cord, lines = importPoints(annotation_base_path, SEG, sub_num)\n",
    "\n",
    "print(f'imported dura for {dura.__len__()} loops')\n",
    "print(f'imported cord for {cord.__len__()} loops')\n",
    "print(f'imported spinal cord roots for {lines.__len__()} lines')"
   ]
  },
  {
   "cell_type": "markdown",
   "metadata": {},
   "source": [
    "## Build and visualise dura section"
   ]
  },
  {
   "cell_type": "code",
   "execution_count": 26,
   "metadata": {},
   "outputs": [
    {
     "data": {
      "application/vnd.jupyter.widget-view+json": {
       "model_id": "275a002250844527a5bf6dd1f28a739a",
       "version_major": 2,
       "version_minor": 0
      },
      "text/plain": [
       "EmbeddableWidget(value='<iframe srcdoc=\"<!DOCTYPE html>\\n<html>\\n  <head>\\n    <meta http-equiv=&quot;Content-…"
      ]
     },
     "metadata": {},
     "output_type": "display_data"
    }
   ],
   "source": [
    "# dura mesh building \n",
    "getMeshSplines(dura, \"Dura\")\n",
    "bridgeLoopMeshes(\"Dura\", sub_num, singlesub_path)\n",
    "clearMesh()\n",
    "\n",
    "# visualise the output using pyvista\n",
    "plotter = pv.Plotter()\n",
    "dura_mesh = pv.read(os.path.join(singlesub_path,f\"{sub_num}_Dura.stl\"))\n",
    "plotter.add_mesh(dura_mesh)\n",
    "plotter.show(jupyter_backend='html')"
   ]
  },
  {
   "cell_type": "markdown",
   "metadata": {},
   "source": [
    "## Build and visualise cord section"
   ]
  },
  {
   "cell_type": "code",
   "execution_count": 27,
   "metadata": {},
   "outputs": [
    {
     "data": {
      "application/vnd.jupyter.widget-view+json": {
       "model_id": "1ea83e3cd86a427a828deb500645fe13",
       "version_major": 2,
       "version_minor": 0
      },
      "text/plain": [
       "EmbeddableWidget(value='<iframe srcdoc=\"<!DOCTYPE html>\\n<html>\\n  <head>\\n    <meta http-equiv=&quot;Content-…"
      ]
     },
     "metadata": {},
     "output_type": "display_data"
    }
   ],
   "source": [
    "# cord mesh building\n",
    "getMeshSplines(cord, \"Cord\")\n",
    "bridgeLoopMeshes(\"Cord\", sub_num, singlesub_path)\n",
    "clearMesh()\n",
    "\n",
    "# visualise the output using pyvista\n",
    "plotter = pv.Plotter()\n",
    "cord_mesh = pv.read(os.path.join(singlesub_path,f\"{sub_num}_Cord.stl\"))\n",
    "plotter.add_mesh(cord_mesh)\n",
    "plotter.show(jupyter_backend='html')"
   ]
  },
  {
   "cell_type": "markdown",
   "metadata": {},
   "source": [
    "## Build and visualise nerveroots section"
   ]
  },
  {
   "cell_type": "code",
   "execution_count": 28,
   "metadata": {},
   "outputs": [
    {
     "data": {
      "application/vnd.jupyter.widget-view+json": {
       "model_id": "997e0536e9164eb098f35072fe41921b",
       "version_major": 2,
       "version_minor": 0
      },
      "text/plain": [
       "EmbeddableWidget(value='<iframe srcdoc=\"<!DOCTYPE html>\\n<html>\\n  <head>\\n    <meta http-equiv=&quot;Content-…"
      ]
     },
     "metadata": {},
     "output_type": "display_data"
    }
   ],
   "source": [
    "# nerveroots mesh building\n",
    "cordstl_path = os.path.join(singlesub_path,f\"{sub_num}_Cord.stl\")\n",
    "lines_relocated = reloc_entrypoint(cordstl_path, lines)\n",
    "lines_smoothed = smoothingLines(lines_relocated, n_interpolate = 100, s=10)\n",
    "getnsaveMeshOpenSplines(lines_smoothed, SEG, Rs, sub_num,singlesub_path)\n",
    "\n",
    "# visualise the output using pyvista\n",
    "plotter = pv.Plotter()\n",
    "roots_mesh = pv.read(os.path.join(singlesub_path,f\"{sub_num}_Nerveroots.stl\"))\n",
    "plotter.add_mesh(roots_mesh)\n",
    "plotter.show(jupyter_backend='html')"
   ]
  },
  {
   "cell_type": "markdown",
   "metadata": {},
   "source": [
    "## Overall illustration"
   ]
  },
  {
   "cell_type": "code",
   "execution_count": 29,
   "metadata": {},
   "outputs": [
    {
     "data": {
      "application/vnd.jupyter.widget-view+json": {
       "model_id": "705551a466834a57b6a85a772a854800",
       "version_major": 2,
       "version_minor": 0
      },
      "text/plain": [
       "EmbeddableWidget(value='<iframe srcdoc=\"<!DOCTYPE html>\\n<html>\\n  <head>\\n    <meta http-equiv=&quot;Content-…"
      ]
     },
     "metadata": {},
     "output_type": "display_data"
    }
   ],
   "source": [
    "plotter = pv.Plotter()\n",
    "# setting varied opacity to show inner sections\n",
    "plotter.add_mesh(roots_mesh,opacity=1)\n",
    "plotter.add_mesh(cord_mesh,opacity=1)\n",
    "plotter.add_mesh(dura_mesh,opacity=0.3)\n",
    "plotter.show(jupyter_backend='html')"
   ]
  },
  {
   "cell_type": "markdown",
   "metadata": {},
   "source": [
    "## Final adjustment (if needed)\n",
    "\n",
    "Considering possible bias caused by manual labeling and interpolation, sometimes the edge of dura may have intersections with nerve roots before the nerve roots through the foramen intervertebral. In such scenario, the model can be imported into blender and adjusted using sculpting function as shown in follows."
   ]
  },
  {
   "cell_type": "code",
   "execution_count": 30,
   "metadata": {},
   "outputs": [
    {
     "name": "stdout",
     "output_type": "stream",
     "text": [
      "Import finished in 0.8820 sec.\n",
      "Import finished in 0.4792 sec.\n"
     ]
    },
    {
     "data": {
      "text/plain": [
       "{'FINISHED'}"
      ]
     },
     "execution_count": 30,
     "metadata": {},
     "output_type": "execute_result"
    }
   ],
   "source": [
    "# preparation for manual sculpting in blender\n",
    "bpy.ops.import_mesh.stl(filepath=os.path.join(singlesub_path,f'{sub_num}_Dura.stl'))\n",
    "bpy.ops.import_mesh.stl(filepath=os.path.join(singlesub_path,f'{sub_num}_Cord.stl'))"
   ]
  }
 ],
 "metadata": {
  "kernelspec": {
   "display_name": "sciblend2",
   "language": "python",
   "name": "python3"
  },
  "language_info": {
   "codemirror_mode": {
    "name": "ipython",
    "version": 3
   },
   "file_extension": ".py",
   "mimetype": "text/x-python",
   "name": "python",
   "nbconvert_exporter": "python",
   "pygments_lexer": "ipython3",
   "version": "3.11.9"
  }
 },
 "nbformat": 4,
 "nbformat_minor": 2
}
